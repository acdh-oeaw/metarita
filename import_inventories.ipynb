{
 "cells": [
  {
   "cell_type": "code",
   "execution_count": 1,
   "metadata": {},
   "outputs": [],
   "source": [
    "from collections import Counter\n",
    "import pandas as pd\n",
    "import re\n",
    "from import_utils import utils"
   ]
  },
  {
   "cell_type": "code",
   "execution_count": 2,
   "metadata": {},
   "outputs": [],
   "source": [
    "file = \"entities/data/Inventare_st_michaelsburg_gesamt_korr.xlsx\""
   ]
  },
  {
   "cell_type": "code",
   "execution_count": 10,
   "metadata": {},
   "outputs": [],
   "source": [
    "vbs = utils.get_filtered_sheets(file, filterstring='V')"
   ]
  },
  {
   "cell_type": "code",
   "execution_count": 3,
   "metadata": {},
   "outputs": [],
   "source": [
    "dfs = utils.get_dfs(file, filterstring='V')"
   ]
  },
  {
   "cell_type": "code",
   "execution_count": 45,
   "metadata": {},
   "outputs": [],
   "source": [
    "# import easy values\n",
    "# create baisc vocabs and relations\n",
    "ww_kind, _ = WorkWorkRelation.objects.get_or_create(\n",
    "    name='ist Teil von'\n",
    ")\n",
    "sla, _ = Institution.objects.get_or_create(\n",
    "    name='Südtiroler Landesarchiv'\n",
    ")\n",
    "sla_vb_kind, _ = InstitutionWorkRelation.objects.get_or_create(\n",
    "    name = 'archiviert'\n",
    ")\n",
    "sla_vb_kind.name_reverse = 'ist archiviert in'\n",
    "sla_vb_kind.save()\n",
    "for df in dfs:\n",
    "    vb_name = df.loc[0][0].split(',')[0]\n",
    "    vb_date = \"{}\".format([int(s) for s in vb_name.split() if s.isdigit()][0])\n",
    "    vb, _ = Work.objects.get_or_create(\n",
    "        name=vb_name\n",
    "    )\n",
    "    vb_kind, _ = WorkType.objects.get_or_create(\n",
    "            name='Verfachbuch'\n",
    "        )\n",
    "    vb.kind = vb_kind\n",
    "    vb.start_date_written = vb_date\n",
    "    vb.end_date_written = \"{}-12-31\".format(vb_date)\n",
    "    vb.save()\n",
    "    sla_vb, _ = InstitutionWork.objects.get_or_create(\n",
    "        relation_type=sla_vb_kind,\n",
    "        related_institution=sla,\n",
    "        related_work=vb\n",
    "    )\n",
    "    for i, row in df.iterrows():\n",
    "        temp_work, _ = Work.objects.get_or_create(\n",
    "            written_name=row['Signatur']\n",
    "        )\n",
    "        temp_work.name = row['Signatur']\n",
    "        if row['Buch/Bücher'] == 'FALSE' or row['Buch/Bücher'] == 'n. a.':\n",
    "            temp_work.buecher = \"\"\n",
    "        else:\n",
    "            temp_work.buecher = row['Buch/Bücher']\n",
    "        if row['Summe Inventar'] == 'FALSE' or row['Summe Inventar'] == 'n. a.':\n",
    "            temp_work.summe_inventar = \"\"\n",
    "        else:\n",
    "            temp_work.summe_inventar = row['Summe Inventar']\n",
    "        if row['Barschaft (teilweise eigene Berechnung)'] == 'FALSE' or row['Barschaft (teilweise eigene Berechnung)'] == 'n.a.':\n",
    "            temp_work.barschaft= \"\"\n",
    "        else:\n",
    "            temp_work.barschaft = row['Barschaft (teilweise eigene Berechnung)']\n",
    "        temp_work.save()\n",
    "    # kind\n",
    "        raw_kind = row['Dokumententypus'].split('\\n')[0].split(';')[0]\n",
    "        work_kind, _ = WorkType.objects.get_or_create(\n",
    "            name=raw_kind\n",
    "        )\n",
    "        temp_work.kind = work_kind\n",
    "        temp_work.save()\n",
    "    # link to vb\n",
    "        temp_work_ww, _ = WorkWork.objects.get_or_create(\n",
    "            relation_type=ww_kind,\n",
    "            related_workA=temp_work,\n",
    "            related_workB=vb\n",
    "        )\n"
   ]
  },
  {
   "cell_type": "code",
   "execution_count": null,
   "metadata": {},
   "outputs": [],
   "source": []
  }
 ],
 "metadata": {
  "kernelspec": {
   "display_name": "Django Shell-Plus",
   "language": "python",
   "name": "django_extensions"
  },
  "language_info": {
   "codemirror_mode": {
    "name": "ipython",
    "version": 3
   },
   "file_extension": ".py",
   "mimetype": "text/x-python",
   "name": "python",
   "nbconvert_exporter": "python",
   "pygments_lexer": "ipython3",
   "version": "3.6.2"
  }
 },
 "nbformat": 4,
 "nbformat_minor": 2
}
