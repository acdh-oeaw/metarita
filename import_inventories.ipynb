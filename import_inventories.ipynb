{
 "cells": [
  {
   "cell_type": "code",
   "execution_count": 1,
   "metadata": {},
   "outputs": [],
   "source": [
    "from collections import Counter\n",
    "import pandas as pd\n",
    "import re\n",
    "from import_utils import utils"
   ]
  },
  {
   "cell_type": "code",
   "execution_count": 2,
   "metadata": {},
   "outputs": [],
   "source": [
    "file = \"entities/data/Inventare_st_michaelsburg_gesamt_korr.xlsx\""
   ]
  },
  {
   "cell_type": "code",
   "execution_count": 3,
   "metadata": {},
   "outputs": [],
   "source": [
    "vbs = utils.get_filtered_sheets(file, filterstring='V')"
   ]
  },
  {
   "cell_type": "code",
   "execution_count": 4,
   "metadata": {},
   "outputs": [],
   "source": [
    "dfs = utils.get_dfs(file, filterstring='V')"
   ]
  },
  {
   "cell_type": "code",
   "execution_count": null,
   "metadata": {},
   "outputs": [],
   "source": [
    "# import easy values\n",
    "# create baisc vocabs and relations\n",
    "ww_kind, _ = WorkWorkRelation.objects.get_or_create(\n",
    "    name='ist Teil von'\n",
    ")\n",
    "sla, _ = Institution.objects.get_or_create(\n",
    "    name='Südtiroler Landesarchiv'\n",
    ")\n",
    "sla_vb_kind, _ = InstitutionWorkRelation.objects.get_or_create(\n",
    "    name = 'archiviert'\n",
    ")\n",
    "sla_vb_kind.name_reverse = 'ist archiviert in'\n",
    "sla_vb_kind.save()\n",
    "for df in dfs:\n",
    "    vb_name = df.loc[0][0].split(',')[0]\n",
    "    vb_date = \"{}\".format([int(s) for s in vb_name.split() if s.isdigit()][0])\n",
    "    vb, _ = Work.objects.get_or_create(\n",
    "        name=vb_name\n",
    "    )\n",
    "    vb_kind, _ = WorkType.objects.get_or_create(\n",
    "            name='Verfachbuch'\n",
    "        )\n",
    "    vb.kind = vb_kind\n",
    "    vb.start_date_written = vb_date\n",
    "    vb.end_date_written = \"{}-12-31\".format(vb_date)\n",
    "    vb.save()\n",
    "    sla_vb, _ = InstitutionWork.objects.get_or_create(\n",
    "        relation_type=sla_vb_kind,\n",
    "        related_institution=sla,\n",
    "        related_work=vb\n",
    "    )\n",
    "    for i, row in df.iterrows():\n",
    "        temp_work, _ = Work.objects.get_or_create(\n",
    "            written_name=row['Signatur']\n",
    "        )\n",
    "        temp_work.name = row['Signatur']\n",
    "        if row['Buch/Bücher'] == 'FALSE' or row['Buch/Bücher'] == 'n. a.':\n",
    "            temp_work.buecher = \"\"\n",
    "        else:\n",
    "            temp_work.buecher = row['Buch/Bücher']\n",
    "        if row['Summe Inventar'] == 'FALSE' or row['Summe Inventar'] == 'n. a.':\n",
    "            temp_work.summe_inventar = \"\"\n",
    "        else:\n",
    "            temp_work.summe_inventar = row['Summe Inventar']\n",
    "        if row['Barschaft (teilweise eigene Berechnung)'] == 'FALSE' or row['Barschaft (teilweise eigene Berechnung)'] == 'n.a.':\n",
    "            temp_work.barschaft= \"\"\n",
    "        else:\n",
    "            temp_work.barschaft = row['Barschaft (teilweise eigene Berechnung)']\n",
    "        temp_work.save()\n",
    "    # kind\n",
    "        raw_kind = row['Dokumententypus'].split('\\n')[0].split(';')[0]\n",
    "        work_kind, _ = WorkType.objects.get_or_create(\n",
    "            name=raw_kind\n",
    "        )\n",
    "        temp_work.kind = work_kind\n",
    "        temp_work.save()\n",
    "    # link to vb\n",
    "        temp_work_ww, _ = WorkWork.objects.get_or_create(\n",
    "            relation_type=ww_kind,\n",
    "            related_workA=temp_work,\n",
    "            related_workB=vb\n",
    "        )\n"
   ]
  },
  {
   "cell_type": "code",
   "execution_count": null,
   "metadata": {
    "scrolled": false
   },
   "outputs": [],
   "source": [
    "# add info about money, books, ...\n",
    "temp_work = None\n",
    "for df in dfs:\n",
    "    for i, row in df.iterrows():\n",
    "        temp_work = Work.objects.get(written_name=row['Signatur'])\n",
    "        if row['Summe Inventar'] == 'FALSE' or row['Summe Inventar'] == 'n. a.':\n",
    "            pass\n",
    "        else:\n",
    "            moneylist = [int(s) for s in row['Summe Inventar'].split() if s.isdigit()]\n",
    "            if moneylist:\n",
    "                try:\n",
    "                    f, xr = moneylist[0], moneylist[1]\n",
    "                except IndexError:\n",
    "                    f, xr = moneylist[0], 0\n",
    "            temp_work.invenatar_summe_norm = float(\"{}.{}\".format(f, xr))\n",
    "        temp_work.save()"
   ]
  },
  {
   "cell_type": "code",
   "execution_count": 12,
   "metadata": {},
   "outputs": [],
   "source": [
    "# add Verstorbene and their Wohnorte\n",
    "temp_work = None\n",
    "place = None\n",
    "pers_work, _ = PersonWorkRelation.objects.get_or_create(\n",
    "    name='geführt als verstorben', name_reverse='führt als verstorben'\n",
    ")\n",
    "pers_place, _ = PersonPlaceRelation.objects.get_or_create(\n",
    "    name='lebte in', name_reverse='Wohnort von'\n",
    ")\n",
    "for df in dfs:\n",
    "    for i, row in df.iterrows():\n",
    "        place = utils.create_places_from_place_string(\n",
    "            row['Wohnort; Ort des betreffenden Gutes/der betreffenden Behausung'].split('\\n')[0]\n",
    "        )\n",
    "        all_names = row['Name\\n(Erklärung aus Verfachbuch)'].split('\\n')[0]\n",
    "        for written_name in all_names.split(';'):\n",
    "            pers, _ = Person.objects.get_or_create(\n",
    "                written_name=written_name,\n",
    "                name=written_name\n",
    "            )\n",
    "            temp_work = Work.objects.get(written_name=row['Signatur'])\n",
    "            pers_work_rel, _ = PersonWork.objects.get_or_create(\n",
    "                relation_type=pers_work,\n",
    "                related_person=pers,\n",
    "                related_work=temp_work\n",
    "            )\n",
    "            pers_pl_rel, _ = PersonPlace.objects.get_or_create(\n",
    "                relation_type=pers_place,\n",
    "                related_person=pers,\n",
    "                related_place=place[0]\n",
    "            )            "
   ]
  }
 ],
 "metadata": {
  "kernelspec": {
   "display_name": "Django Shell-Plus",
   "language": "python",
   "name": "django_extensions"
  },
  "language_info": {
   "codemirror_mode": {
    "name": "ipython",
    "version": 3
   },
   "file_extension": ".py",
   "mimetype": "text/x-python",
   "name": "python",
   "nbconvert_exporter": "python",
   "pygments_lexer": "ipython3",
   "version": "3.6.2"
  }
 },
 "nbformat": 4,
 "nbformat_minor": 2
}
