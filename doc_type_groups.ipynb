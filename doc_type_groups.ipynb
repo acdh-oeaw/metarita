{
 "cells": [
  {
   "cell_type": "code",
   "execution_count": 34,
   "metadata": {},
   "outputs": [],
   "source": [
    "kinds = WorkType.objects.all()"
   ]
  },
  {
   "cell_type": "code",
   "execution_count": 35,
   "metadata": {},
   "outputs": [],
   "source": [
    "verl_super, _ = WorkType.objects.get_or_create(name='Verlassenschaftsabhandlung (Gruppe)')\n",
    "rueck_super, _ = WorkType.objects.get_or_create(name='Rückstellungsinventar (Gruppe)')\n",
    "stell_super, _ = WorkType.objects.get_or_create(name='Stellungsinventar (Gruppe)')\n",
    "sonst_super, _ = WorkType.objects.get_or_create(name='sonstige Dokumente (Gruppe)')\n"
   ]
  },
  {
   "cell_type": "code",
   "execution_count": 36,
   "metadata": {},
   "outputs": [],
   "source": [
    "verlassenschaftsabhandlung = []\n",
    "rueckstellungsinventar = []\n",
    "stellungsinventar = []\n",
    "sonstiges = []\n",
    "\n",
    "for x in kinds:\n",
    "    if \"Verlassenschaftsabhandlung\" in x.name:\n",
    "        verlassenschaftsabhandlung.append(x)\n",
    "        x.part_of = verl_super\n",
    "    elif \"Verlasenschaftsabhandlung\" in x.name:\n",
    "        verlassenschaftsabhandlung.append(x)\n",
    "        x.part_of = verl_super\n",
    "    elif \"Verlassenschaftabhandlung\" in x.name:\n",
    "        verlassenschaftsabhandlung.append(x)\n",
    "        x.part_of = verl_super\n",
    "    elif \"Verlassentschaftsabhandlung\" in x.name:\n",
    "        verlassenschaftsabhandlung.append(x)\n",
    "        x.part_of = verl_super\n",
    "    elif \"Verlassenschaftsabhandlugn\" in x.name:\n",
    "        verlassenschaftsabhandlung.append(x)\n",
    "        x.part_of = verl_super\n",
    "    elif \"Verlassenschaftsabhandlugn\" in x.name:\n",
    "        verlassenschaftsabhandlung.append(x)\n",
    "        x.part_of = verl_super\n",
    "    elif \"Verlassenschaftsabhandlng\" in x.name:\n",
    "        verlassenschaftsabhandlung.append(x)\n",
    "        x.part_of = verl_super\n",
    "    elif \"Verlassenscahftsabhandlung\" in x.name:\n",
    "        verlassenschaftsabhandlung.append(x)\n",
    "        x.part_of = verl_super\n",
    "    elif \"Rückstellungsinventar\" in x.name:\n",
    "        rueckstellungsinventar.append(x)\n",
    "        x.part_of = rueck_super\n",
    "    elif \"Rückstellunginventar\" in x.name:\n",
    "        rueckstellungsinventar.append(x)\n",
    "        x.part_of = rueck_super\n",
    "    elif \"Stellungsin\" in x.name:\n",
    "        stellungsinventar.append(x)\n",
    "        x.part_of = stell_super\n",
    "    else:\n",
    "        sonstiges.append(x)\n",
    "        x.part_of = sonst_super\n",
    "    x.save()"
   ]
  },
  {
   "cell_type": "code",
   "execution_count": 31,
   "metadata": {},
   "outputs": [],
   "source": [
    "supertypes = [\n",
    "    'Verlassenschaftsabhandlung (Gruppe)',\n",
    "    'Rückstellungsinventar (Gruppe)',\n",
    "    'Stellungsinventar (Gruppe)',\n",
    "    'sonstige Dokumente (Gruppe)'\n",
    "]"
   ]
  },
  {
   "cell_type": "code",
   "execution_count": 32,
   "metadata": {},
   "outputs": [],
   "source": [
    "for x in supertypes:\n",
    "    WorkType.objects.get_or_create(name=x)"
   ]
  },
  {
   "cell_type": "code",
   "execution_count": 26,
   "metadata": {},
   "outputs": [
    {
     "name": "stdout",
     "output_type": "stream",
     "text": [
      "Verfachbuch St. Michaelsburg 1792, Bl. 132 r-155 v\n"
     ]
    }
   ],
   "source": [
    "for x in Work.objects.filter(kind__name__icontains='Stellungsinventar im Rahmen des Endes eines Genusseinräumungsvertrags bzw. Rückstellungsinventar'):\n",
    "    print(x)"
   ]
  },
  {
   "cell_type": "code",
   "execution_count": null,
   "metadata": {},
   "outputs": [],
   "source": []
  }
 ],
 "metadata": {
  "kernelspec": {
   "display_name": "Django Shell-Plus",
   "language": "python",
   "name": "django_extensions"
  },
  "language_info": {
   "codemirror_mode": {
    "name": "ipython",
    "version": 3
   },
   "file_extension": ".py",
   "mimetype": "text/x-python",
   "name": "python",
   "nbconvert_exporter": "python",
   "pygments_lexer": "ipython3",
   "version": "3.6.2"
  }
 },
 "nbformat": 4,
 "nbformat_minor": 2
}
