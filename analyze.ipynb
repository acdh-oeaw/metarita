{
 "cells": [
  {
   "cell_type": "code",
   "execution_count": 1,
   "metadata": {},
   "outputs": [],
   "source": [
    "from collections import Counter\n",
    "import pandas as pd\n",
    "from django.db.models import Avg, Sum, Count\n",
    "# Members.objects.values('designation').annotate(dcount=Count('designation'))"
   ]
  },
  {
   "cell_type": "code",
   "execution_count": 3,
   "metadata": {},
   "outputs": [],
   "source": [
    "# PersWork grouped by related Persons\n",
    "queryset = list(PersonWork.objects.values('related_work').annotate(rel_persons=Count('related_person')))\n",
    "df = pd.DataFrame(queryset)"
   ]
  },
  {
   "cell_type": "code",
   "execution_count": 2,
   "metadata": {},
   "outputs": [],
   "source": [
    "def get_works_by_rel_person(num_rel_persons):\n",
    "    queryset = list(PersonWork.objects.values('related_work').annotate(rel_persons=Count('related_person')))\n",
    "    works = [Work.objects.get(id=x['related_work']) for x in queryset if x['rel_persons'] == num_rel_persons]\n",
    "    return queryset, works"
   ]
  },
  {
   "cell_type": "code",
   "execution_count": 3,
   "metadata": {
    "scrolled": true
   },
   "outputs": [
    {
     "data": {
      "text/plain": [
       "[<Work: Verfachbuch St. Michaelsburg 1795, Bl. 462 r-469 v>,\n",
       " <Work: Verfachbuch St. Michaelsburg 1778, Bl. 157 r-158 v>,\n",
       " <Work: Verfachbuch St. Michaelsburg 1782, Bl. 304 r-305 v>,\n",
       " <Work: Verfachbuch St. Michaelsburg 1796, Bl. 599 r-600 r>,\n",
       " <Work: Verfachbuch St. Michaelsburg 1797, Bl. 203 r-205 r>,\n",
       " <Work: Verfachbuch St. Michaelsburg 1798, Bl. 332 r>,\n",
       " <Work: Verfachbuch St. Michaelsburg 1798, Bl. 339 r-343 r>,\n",
       " <Work: Verfachbuch St. Michaelsburg 1798, Bl. 649 r-660 v>,\n",
       " <Work: Verfachbuch St. Michaelsburg 1798, Bl. 691 r-698 v>,\n",
       " <Work: Verfachbuch St. Michaelsburg 1800, Bl. 458 r-459 r>]"
      ]
     },
     "execution_count": 3,
     "metadata": {},
     "output_type": "execute_result"
    }
   ],
   "source": [
    "get_works_by_rel_person(4)"
   ]
  },
  {
   "cell_type": "code",
   "execution_count": null,
   "metadata": {},
   "outputs": [],
   "source": [
    "# avg related persons\n",
    "df['rel_persons'].mean()"
   ]
  },
  {
   "cell_type": "code",
   "execution_count": null,
   "metadata": {},
   "outputs": [],
   "source": [
    "# max related persons\n",
    "df['rel_persons'].max()"
   ]
  },
  {
   "cell_type": "code",
   "execution_count": null,
   "metadata": {},
   "outputs": [],
   "source": [
    "# min related persons\n",
    "df['rel_persons'].min()"
   ]
  },
  {
   "cell_type": "code",
   "execution_count": 22,
   "metadata": {},
   "outputs": [],
   "source": [
    "# PersonWork relations grouped by number of related persons\n",
    "hansi = df.groupby('rel_persons').count()"
   ]
  },
  {
   "cell_type": "code",
   "execution_count": 23,
   "metadata": {},
   "outputs": [],
   "source": [
    "cols = [hansi.index.name] + [i for i in hansi.columns]"
   ]
  },
  {
   "cell_type": "code",
   "execution_count": 24,
   "metadata": {},
   "outputs": [
    {
     "data": {
      "text/plain": [
       "['rel_persons', 'related_work']"
      ]
     },
     "execution_count": 24,
     "metadata": {},
     "output_type": "execute_result"
    }
   ],
   "source": [
    "some"
   ]
  },
  {
   "cell_type": "code",
   "execution_count": 25,
   "metadata": {},
   "outputs": [],
   "source": [
    "rows =  [[i for i in row] for row in hansi.itertuples()]"
   ]
  },
  {
   "cell_type": "code",
   "execution_count": 26,
   "metadata": {},
   "outputs": [
    {
     "data": {
      "text/plain": [
       "[[3, 4],\n",
       " [4, 10],\n",
       " [5, 6],\n",
       " [6, 23],\n",
       " [7, 41],\n",
       " [8, 67],\n",
       " [9, 50],\n",
       " [10, 62],\n",
       " [11, 74],\n",
       " [12, 80],\n",
       " [13, 64],\n",
       " [14, 48],\n",
       " [15, 44],\n",
       " [16, 42],\n",
       " [17, 24],\n",
       " [18, 27],\n",
       " [19, 11],\n",
       " [20, 10],\n",
       " [21, 12],\n",
       " [22, 7],\n",
       " [23, 5],\n",
       " [24, 5],\n",
       " [25, 2],\n",
       " [26, 3],\n",
       " [27, 3],\n",
       " [28, 4],\n",
       " [29, 2],\n",
       " [30, 2],\n",
       " [31, 2],\n",
       " [32, 3],\n",
       " [36, 1],\n",
       " [37, 1],\n",
       " [38, 1],\n",
       " [39, 2],\n",
       " [41, 2],\n",
       " [52, 1],\n",
       " [122, 1]]"
      ]
     },
     "execution_count": 26,
     "metadata": {},
     "output_type": "execute_result"
    }
   ],
   "source": [
    "rows"
   ]
  },
  {
   "cell_type": "code",
   "execution_count": null,
   "metadata": {},
   "outputs": [],
   "source": []
  }
 ],
 "metadata": {
  "kernelspec": {
   "display_name": "Django Shell-Plus",
   "language": "python",
   "name": "django_extensions"
  },
  "language_info": {
   "codemirror_mode": {
    "name": "ipython",
    "version": 3
   },
   "file_extension": ".py",
   "mimetype": "text/x-python",
   "name": "python",
   "nbconvert_exporter": "python",
   "pygments_lexer": "ipython3",
   "version": "3.6.2"
  }
 },
 "nbformat": 4,
 "nbformat_minor": 2
}
